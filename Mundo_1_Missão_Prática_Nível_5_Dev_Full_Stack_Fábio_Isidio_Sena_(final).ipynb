{
  "nbformat": 4,
  "nbformat_minor": 0,
  "metadata": {
    "colab": {
      "provenance": [],
      "collapsed_sections": [
        "ReP0TxyTzgrx",
        "ocp5qxXpdoBb",
        "VnWrYMj-nXtf",
        "M2VeQdY8iRf6",
        "yfYuG248qyFq"
      ],
      "include_colab_link": true
    },
    "kernelspec": {
      "name": "python3",
      "display_name": "Python 3"
    },
    "language_info": {
      "name": "python"
    }
  },
  "cells": [
    {
      "cell_type": "markdown",
      "metadata": {
        "id": "view-in-github",
        "colab_type": "text"
      },
      "source": [
        "<a href=\"https://colab.research.google.com/github/fabioisena/FullStack/blob/main/Mundo_1_Miss%C3%A3o_Pr%C3%A1tica_N%C3%ADvel_5_Dev_Full_Stack_F%C3%A1bio_Isidio_Sena_(final).ipynb\" target=\"_parent\"><img src=\"https://colab.research.google.com/assets/colab-badge.svg\" alt=\"Open In Colab\"/></a>"
      ]
    },
    {
      "cell_type": "markdown",
      "source": [
        "![estacio_logo_branco.png](data:image/png;base64,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)"
      ],
      "metadata": {
        "id": "QQRa9CCsyO9v"
      }
    },
    {
      "cell_type": "markdown",
      "source": [
        "----------------------------\n",
        "#**Campus São Bernardo do Campo**\n",
        "##Curso - Desenvolvimento Full Stack - Turma 22.3\n",
        "### Mundo 1 - Nível 5: Colocando tudo em ordem e guardando\n",
        "##### Aluno: Fábio Isidio Sena da Silva\n",
        "##### Matrícula: 202208549926\n",
        "------------------------------------\n"
      ],
      "metadata": {
        "id": "1LLsEGMUydFX"
      }
    },
    {
      "cell_type": "markdown",
      "source": [
        "---------------------\n",
        "## Título da Prática: \n",
        "##### Implementação de um programa para manipular dados de um arquivo texto e visualizá-los em um histograma e nuvem de palavras\n",
        "------------------------------\n"
      ],
      "metadata": {
        "id": "IHiSPwO9zhbf"
      }
    },
    {
      "cell_type": "markdown",
      "source": [
        "------------\n",
        "#Importando o faker e worldcloud\n",
        "--------------\n"
      ],
      "metadata": {
        "id": "rwgtdoPdzduE"
      }
    },
    {
      "cell_type": "code",
      "source": [
        "!pip install faker"
      ],
      "metadata": {
        "id": "2C73qa3aexAU",
        "outputId": "9132662f-cc9b-49b3-a817-fde3be227e6d",
        "colab": {
          "base_uri": "https://localhost:8080/"
        }
      },
      "execution_count": null,
      "outputs": [
        {
          "output_type": "stream",
          "name": "stdout",
          "text": [
            "Looking in indexes: https://pypi.org/simple, https://us-python.pkg.dev/colab-wheels/public/simple/\n",
            "Requirement already satisfied: faker in /usr/local/lib/python3.7/dist-packages (15.3.3)\n",
            "Requirement already satisfied: typing-extensions>=3.10.0.1 in /usr/local/lib/python3.7/dist-packages (from faker) (4.1.1)\n",
            "Requirement already satisfied: python-dateutil>=2.4 in /usr/local/lib/python3.7/dist-packages (from faker) (2.8.2)\n",
            "Requirement already satisfied: six>=1.5 in /usr/local/lib/python3.7/dist-packages (from python-dateutil>=2.4->faker) (1.15.0)\n"
          ]
        }
      ]
    },
    {
      "cell_type": "code",
      "source": [
        "!pip install wordcloud"
      ],
      "metadata": {
        "id": "6yB6nT1-e9lu",
        "colab": {
          "base_uri": "https://localhost:8080/"
        },
        "outputId": "b12d74bf-a01c-4eaa-e797-33ef829de9f9"
      },
      "execution_count": null,
      "outputs": [
        {
          "output_type": "stream",
          "name": "stdout",
          "text": [
            "Looking in indexes: https://pypi.org/simple, https://us-python.pkg.dev/colab-wheels/public/simple/\n",
            "Requirement already satisfied: wordcloud in /usr/local/lib/python3.7/dist-packages (1.8.2.2)\n",
            "Requirement already satisfied: matplotlib in /usr/local/lib/python3.7/dist-packages (from wordcloud) (3.2.2)\n",
            "Requirement already satisfied: numpy>=1.6.1 in /usr/local/lib/python3.7/dist-packages (from wordcloud) (1.21.6)\n",
            "Requirement already satisfied: pillow in /usr/local/lib/python3.7/dist-packages (from wordcloud) (7.1.2)\n",
            "Requirement already satisfied: kiwisolver>=1.0.1 in /usr/local/lib/python3.7/dist-packages (from matplotlib->wordcloud) (1.4.4)\n",
            "Requirement already satisfied: pyparsing!=2.0.4,!=2.1.2,!=2.1.6,>=2.0.1 in /usr/local/lib/python3.7/dist-packages (from matplotlib->wordcloud) (3.0.9)\n",
            "Requirement already satisfied: python-dateutil>=2.1 in /usr/local/lib/python3.7/dist-packages (from matplotlib->wordcloud) (2.8.2)\n",
            "Requirement already satisfied: cycler>=0.10 in /usr/local/lib/python3.7/dist-packages (from matplotlib->wordcloud) (0.11.0)\n",
            "Requirement already satisfied: typing-extensions in /usr/local/lib/python3.7/dist-packages (from kiwisolver>=1.0.1->matplotlib->wordcloud) (4.1.1)\n",
            "Requirement already satisfied: six>=1.5 in /usr/local/lib/python3.7/dist-packages (from python-dateutil>=2.1->matplotlib->wordcloud) (1.15.0)\n"
          ]
        }
      ]
    },
    {
      "cell_type": "markdown",
      "source": [
        "--------------\n",
        "#1 - Gerando os dados\n",
        "--------------"
      ],
      "metadata": {
        "id": "OmPiWJnTerR5"
      }
    },
    {
      "cell_type": "markdown",
      "source": [
        "######entrar com um número referente à quantidade de alunos que deseja criar os dados "
      ],
      "metadata": {
        "id": "_xhVPG0WmglA"
      }
    },
    {
      "cell_type": "code",
      "source": [
        "#------------------criar a lista------------------------#\n",
        "from faker import Faker\n",
        "from datetime import datetime\n",
        "\n",
        "lista=[]\n",
        "fake = Faker('pt_BR')\n",
        "\n",
        "qtde = int(input(\"Digite a quantidade de alunos: \"))\n",
        "print(\"você terá \",qtde, \"alunos e \",qtde,\" notas fictícias\", \"\\n\")\n",
        "\n",
        "\n",
        "for i in range(qtde):\n",
        "    aluno = fake.name()\n",
        "    nota = fake.random_int(1,10)\n",
        "    #print(fake.name())\n",
        "    #aluno = [fake.name(), fake.random_int(1,10)]\n",
        "    lista.append(aluno)\n",
        "    lista.append(str(nota))"
      ],
      "metadata": {
        "id": "8ptoCeKsItcn",
        "colab": {
          "base_uri": "https://localhost:8080/"
        },
        "outputId": "d2bbd584-013e-4564-a70f-58b250902130"
      },
      "execution_count": null,
      "outputs": [
        {
          "output_type": "stream",
          "name": "stdout",
          "text": [
            "Digite a quantidade de alunos: 50\n",
            "você terá  50 alunos e  50  notas fictícias \n",
            "\n"
          ]
        }
      ]
    },
    {
      "cell_type": "code",
      "source": [
        "lista #testar como sai a lista"
      ],
      "metadata": {
        "id": "UY2m2m-dSBDi"
      },
      "execution_count": null,
      "outputs": []
    },
    {
      "cell_type": "markdown",
      "source": [
        "---------------\n",
        "#2.1 - Gravando os dados em arquivo\n",
        "--------------\n"
      ],
      "metadata": {
        "id": "FD4KxKA4kmSW"
      }
    },
    {
      "cell_type": "code",
      "source": [
        "#-------------------------GRAVAR O ARQUIVO---------------------#\n",
        "meuArquivo = open('lista_AlunoNota.txt',\"w\")\n",
        "\n",
        "with open('lista_AlunoNota.txt', \"w\") as resultado:\n",
        "    for item in lista:\n",
        "        texto = f\"{item.strip()}\\n\"\n",
        "        resultado.write(texto)\n",
        "\n",
        "meuArquivo.close()"
      ],
      "metadata": {
        "id": "RZ1ssf8zStQV"
      },
      "execution_count": null,
      "outputs": []
    },
    {
      "cell_type": "markdown",
      "source": [
        "---------------\n",
        "#2.2 - Lendo dados em arquivo\n",
        "---------------"
      ],
      "metadata": {
        "id": "iO-IM8xSlCtt"
      }
    },
    {
      "cell_type": "code",
      "source": [
        "meuArquivo = open('lista_AlunoNota.txt')"
      ],
      "metadata": {
        "id": "GeE_NOH5HEjp"
      },
      "execution_count": null,
      "outputs": []
    },
    {
      "cell_type": "code",
      "source": [
        "meuArquivo.read()"
      ],
      "metadata": {
        "colab": {
          "base_uri": "https://localhost:8080/",
          "height": 237
        },
        "id": "5sNLQthjHV-Z",
        "outputId": "ad6cc4c9-2e75-487d-c4db-31e61b976069"
      },
      "execution_count": null,
      "outputs": [
        {
          "output_type": "execute_result",
          "data": {
            "text/plain": [
              "'Srta. Agatha Porto\\n6\\nBenício Dias\\n7\\nMaria Eduarda da Rocha\\n7\\nMilena Monteiro\\n9\\nAlana Porto\\n3\\nGabrielly Sales\\n6\\nJoão Pedro Almeida\\n10\\nLuiz Otávio da Conceição\\n1\\nAgatha Castro\\n5\\nMariane Alves\\n4\\nKevin Nascimento\\n2\\nLavínia da Mata\\n10\\nAna Vitória Ribeiro\\n1\\nVitor Gabriel Rezende\\n5\\nLeonardo Nunes\\n5\\nHenrique Duarte\\n7\\nIgor Lopes\\n8\\nBernardo Lima\\n2\\nBrenda Dias\\n8\\nPedro Barros\\n7\\nGabriel da Cunha\\n4\\nYasmin Peixoto\\n2\\nSrta. Olivia Lima\\n9\\nEnzo Gonçalves\\n5\\nMarina Fernandes\\n10\\nDavi Carvalho\\n4\\nYago Nunes\\n6\\nVitória Santos\\n10\\nDanilo da Costa\\n2\\nCamila Carvalho\\n10\\nNicolas Silva\\n5\\nEmilly Barbosa\\n5\\nThales Pires\\n8\\nIsabelly Rocha\\n4\\nAna Vitória Porto\\n4\\nTheo da Rocha\\n4\\nMaria Clara Monteiro\\n9\\nSrta. Carolina Rezende\\n8\\nDra. Clarice Souza\\n5\\nMaria Vitória Novaes\\n3\\nMaysa Jesus\\n5\\nMirella Barbosa\\n4\\nNicole da Mata\\n7\\nSrta. Letícia Vieira\\n2\\nArthur Moura\\n6\\nCauê Moraes\\n4\\nAna Carolina Vieira\\n5\\nGiovanna Almeida\\n1\\nAlana da Paz\\n3\\nCarolina Martins\\n9\\n'"
            ],
            "application/vnd.google.colaboratory.intrinsic+json": {
              "type": "string"
            }
          },
          "metadata": {},
          "execution_count": 12
        }
      ]
    },
    {
      "cell_type": "code",
      "source": [
        "ler_meuArquivo = open('lista_AlunoNota.txt') # Abrir o arquivo lista_AlunoNota.txt\n",
        "\n",
        "lista=ler_meuArquivo.read().splitlines() # Ler o arquivo aberto\n",
        "\n",
        "print(lista) #imprime "
      ],
      "metadata": {
        "id": "4FT7UGHTEI0A",
        "colab": {
          "base_uri": "https://localhost:8080/"
        },
        "outputId": "9d2d38f5-939d-4b47-f9b3-5c3932fba0c4"
      },
      "execution_count": null,
      "outputs": [
        {
          "output_type": "stream",
          "name": "stdout",
          "text": [
            "['Srta. Agatha Porto', '6', 'Benício Dias', '7', 'Maria Eduarda da Rocha', '7', 'Milena Monteiro', '9', 'Alana Porto', '3', 'Gabrielly Sales', '6', 'João Pedro Almeida', '10', 'Luiz Otávio da Conceição', '1', 'Agatha Castro', '5', 'Mariane Alves', '4', 'Kevin Nascimento', '2', 'Lavínia da Mata', '10', 'Ana Vitória Ribeiro', '1', 'Vitor Gabriel Rezende', '5', 'Leonardo Nunes', '5', 'Henrique Duarte', '7', 'Igor Lopes', '8', 'Bernardo Lima', '2', 'Brenda Dias', '8', 'Pedro Barros', '7', 'Gabriel da Cunha', '4', 'Yasmin Peixoto', '2', 'Srta. Olivia Lima', '9', 'Enzo Gonçalves', '5', 'Marina Fernandes', '10', 'Davi Carvalho', '4', 'Yago Nunes', '6', 'Vitória Santos', '10', 'Danilo da Costa', '2', 'Camila Carvalho', '10', 'Nicolas Silva', '5', 'Emilly Barbosa', '5', 'Thales Pires', '8', 'Isabelly Rocha', '4', 'Ana Vitória Porto', '4', 'Theo da Rocha', '4', 'Maria Clara Monteiro', '9', 'Srta. Carolina Rezende', '8', 'Dra. Clarice Souza', '5', 'Maria Vitória Novaes', '3', 'Maysa Jesus', '5', 'Mirella Barbosa', '4', 'Nicole da Mata', '7', 'Srta. Letícia Vieira', '2', 'Arthur Moura', '6', 'Cauê Moraes', '4', 'Ana Carolina Vieira', '5', 'Giovanna Almeida', '1', 'Alana da Paz', '3', 'Carolina Martins', '9']\n"
          ]
        }
      ]
    },
    {
      "cell_type": "code",
      "source": [
        "ler_meuArquivo.seek(0)# Procure o início do arquivo (índice 0)\n",
        "ler_meuArquivo.read()# Ler novamente"
      ],
      "metadata": {
        "colab": {
          "base_uri": "https://localhost:8080/",
          "height": 237
        },
        "id": "ShLVfJyhEdnS",
        "outputId": "c48a4da9-865d-434b-c720-825b7ad40e6f"
      },
      "execution_count": null,
      "outputs": [
        {
          "output_type": "execute_result",
          "data": {
            "text/plain": [
              "'Srta. Agatha Porto\\n6\\nBenício Dias\\n7\\nMaria Eduarda da Rocha\\n7\\nMilena Monteiro\\n9\\nAlana Porto\\n3\\nGabrielly Sales\\n6\\nJoão Pedro Almeida\\n10\\nLuiz Otávio da Conceição\\n1\\nAgatha Castro\\n5\\nMariane Alves\\n4\\nKevin Nascimento\\n2\\nLavínia da Mata\\n10\\nAna Vitória Ribeiro\\n1\\nVitor Gabriel Rezende\\n5\\nLeonardo Nunes\\n5\\nHenrique Duarte\\n7\\nIgor Lopes\\n8\\nBernardo Lima\\n2\\nBrenda Dias\\n8\\nPedro Barros\\n7\\nGabriel da Cunha\\n4\\nYasmin Peixoto\\n2\\nSrta. Olivia Lima\\n9\\nEnzo Gonçalves\\n5\\nMarina Fernandes\\n10\\nDavi Carvalho\\n4\\nYago Nunes\\n6\\nVitória Santos\\n10\\nDanilo da Costa\\n2\\nCamila Carvalho\\n10\\nNicolas Silva\\n5\\nEmilly Barbosa\\n5\\nThales Pires\\n8\\nIsabelly Rocha\\n4\\nAna Vitória Porto\\n4\\nTheo da Rocha\\n4\\nMaria Clara Monteiro\\n9\\nSrta. Carolina Rezende\\n8\\nDra. Clarice Souza\\n5\\nMaria Vitória Novaes\\n3\\nMaysa Jesus\\n5\\nMirella Barbosa\\n4\\nNicole da Mata\\n7\\nSrta. Letícia Vieira\\n2\\nArthur Moura\\n6\\nCauê Moraes\\n4\\nAna Carolina Vieira\\n5\\nGiovanna Almeida\\n1\\nAlana da Paz\\n3\\nCarolina Martins\\n9\\n'"
            ],
            "application/vnd.google.colaboratory.intrinsic+json": {
              "type": "string"
            }
          },
          "metadata": {},
          "execution_count": 14
        }
      ]
    },
    {
      "cell_type": "markdown",
      "source": [
        "----------------\n",
        "#3 - Tratamento dos dados para o Histograma\n",
        "----------------\n",
        "######O tratamento foi feito com função para poder chamar novamente após a preparação realizada para a nuvem de palavras.\n",
        "######Não alterando portanto o restante da aplicação\n"
      ],
      "metadata": {
        "id": "TrfNjZk2RWMm"
      }
    },
    {
      "cell_type": "code",
      "source": [
        "#--------inicio do tratramento para fazer a lista do histograma---------\n",
        "\n",
        "def tratarDados():\n",
        "    ler_meuArquivo = open('lista_AlunoNota.txt')\n",
        "    #my_file.seek(0)\n",
        "    #my_file.read()\n",
        "\n",
        "    lista_arq = []\n",
        "\n",
        "    lista_arq = ler_meuArquivo.readlines()\n",
        "    global numeros\n",
        "    numeros = []\n",
        "    for item in range(1,len(lista_arq),2):\n",
        "        numeros.append(int(lista_arq[item]))\n",
        "    \n",
        "    meuArquivo.close()\n",
        "    print(numeros)"
      ],
      "metadata": {
        "id": "OWNy1W7HRInq"
      },
      "execution_count": null,
      "outputs": []
    },
    {
      "cell_type": "code",
      "source": [
        "tratarDados()"
      ],
      "metadata": {
        "colab": {
          "base_uri": "https://localhost:8080/"
        },
        "id": "0TChpNS6Q540",
        "outputId": "44ceed04-171c-48e6-ec1f-33edb53de940"
      },
      "execution_count": null,
      "outputs": [
        {
          "output_type": "stream",
          "name": "stdout",
          "text": [
            "[6, 7, 7, 9, 3, 6, 10, 1, 5, 4, 2, 10, 1, 5, 5, 7, 8, 2, 8, 7, 4, 2, 9, 5, 10, 4, 6, 10, 2, 10, 5, 5, 8, 4, 4, 4, 9, 8, 5, 3, 5, 4, 7, 2, 6, 4, 5, 1, 3, 9]\n"
          ]
        }
      ]
    },
    {
      "cell_type": "code",
      "source": [
        "numeros # teste da lista de numeros para a Histograma"
      ],
      "metadata": {
        "id": "7Itz5keTxgpW"
      },
      "execution_count": null,
      "outputs": []
    },
    {
      "cell_type": "markdown",
      "source": [
        "### Gráfico de Histograma"
      ],
      "metadata": {
        "id": "n0dBH_Piwhfz"
      }
    },
    {
      "cell_type": "code",
      "source": [
        "from pyparsing.helpers import White\n",
        "import matplotlib.pyplot as plt\n",
        "#https://matplotlib.org/3.1.1/api/_as_gen/matplotlib.pyplot.hist.html\n",
        "#Returns: This returns the following:\n",
        "#n :Valor de cada bin.\n",
        "#bins :limites de cada bin. (por padrão ele divide em 10 bins)\n",
        "#patches :retorna um lista com cada coluna do histograma.\n",
        "\n",
        "tratarDados() # para garantir que os numeros são os mesmos do arquivo original\n",
        "\n",
        "num_bins=10; plt.hist(numeros,num_bins,density=True,facecolor='blue', alpha=0.7, edgecolor=\"white\", width=.9)\n",
        "plt.xlabel('Notas', fontsize=14)\n",
        "plt.ylabel('Probabilidade', fontsize=14)\n",
        "plt.title('Histograma das Notas', fontsize=18)\n",
        "plt.grid(True, linestyle='--', linewidth=.7)\n",
        "plt.show()"
      ],
      "metadata": {
        "colab": {
          "base_uri": "https://localhost:8080/",
          "height": 341
        },
        "id": "l_bYpndZwjVp",
        "outputId": "c30b9538-579c-474d-a6ec-6fdac50ff95e"
      },
      "execution_count": null,
      "outputs": [
        {
          "output_type": "stream",
          "name": "stdout",
          "text": [
            "[6, 7, 7, 9, 3, 6, 10, 1, 5, 4, 2, 10, 1, 5, 5, 7, 8, 2, 8, 7, 4, 2, 9, 5, 10, 4, 6, 10, 2, 10, 5, 5, 8, 4, 4, 4, 9, 8, 5, 3, 5, 4, 7, 2, 6, 4, 5, 1, 3, 9]\n"
          ]
        },
        {
          "output_type": "display_data",
          "data": {
            "text/plain": [
              "<Figure size 432x288 with 1 Axes>"
            ],
            "image/png": "[encoded data removed]"
          },
          "metadata": {
            "needs_background": "light"
          }
        }
      ]
    },
    {
      "cell_type": "markdown",
      "source": [
        "--------------\n",
        "# 4 - Manipulando os dados para visualizá-los em uma nuvem de palavras\n",
        "--------------"
      ],
      "metadata": {
        "id": "F0Rd9ed6qknL"
      }
    },
    {
      "cell_type": "code",
      "source": [
        "#--------------------------DICIONÁRIO-----------------------------\n",
        "tratarDados()\n",
        "\n",
        "dicio = dict(zip([1,2,3,4,5,6,7,8,9,10], ['um', 'dois', 'três', 'quatro', 'cinco', \n",
        "                               'seis', 'sete', 'oito', 'nove', 'dez']))\n",
        "#tratarDados()\n",
        "\n",
        "numCloud = \"\"\n",
        "numCloud = dicio[numeros[0]]\n",
        "numeros.pop(0) #para tnão iniciar com \",\"\n",
        "\n",
        "for avas in numeros:\n",
        "    numCloud = numCloud + \", \" + dicio[avas]\n"
      ],
      "metadata": {
        "id": "eYUzXazaygmN",
        "colab": {
          "base_uri": "https://localhost:8080/"
        },
        "outputId": "61e23767-8bd7-4b2b-8591-88dc7cd2e506"
      },
      "execution_count": null,
      "outputs": [
        {
          "output_type": "stream",
          "name": "stdout",
          "text": [
            "[6, 7, 7, 9, 3, 6, 10, 1, 5, 4, 2, 10, 1, 5, 5, 7, 8, 2, 8, 7, 4, 2, 9, 5, 10, 4, 6, 10, 2, 10, 5, 5, 8, 4, 4, 4, 9, 8, 5, 3, 5, 4, 7, 2, 6, 4, 5, 1, 3, 9]\n"
          ]
        }
      ]
    },
    {
      "cell_type": "code",
      "source": [
        "numeros #neste momento a variável \"numeros\" tem o primeiro item removido.\n",
        "#entretanto ao chamar a função \"tratarDados()\" o arquivo é lido novamente."
      ],
      "metadata": {
        "id": "s7lhK7kaE9LW"
      },
      "execution_count": null,
      "outputs": []
    },
    {
      "cell_type": "code",
      "source": [
        "print (numCloud)"
      ],
      "metadata": {
        "colab": {
          "base_uri": "https://localhost:8080/"
        },
        "id": "qw-KpF-7AUHM",
        "outputId": "185f4222-5927-4c09-aded-d8d49cd7fab6"
      },
      "execution_count": null,
      "outputs": [
        {
          "output_type": "stream",
          "name": "stdout",
          "text": [
            "seis, sete, sete, nove, três, seis, dez, um, cinco, quatro, dois, dez, um, cinco, cinco, sete, oito, dois, oito, sete, quatro, dois, nove, cinco, dez, quatro, seis, dez, dois, dez, cinco, cinco, oito, quatro, quatro, quatro, nove, oito, cinco, três, cinco, quatro, sete, dois, seis, quatro, cinco, um, três, nove\n"
          ]
        }
      ]
    },
    {
      "cell_type": "markdown",
      "source": [
        "####Nuvem de palavras"
      ],
      "metadata": {
        "id": "bVyrwwsxVuo5"
      }
    },
    {
      "cell_type": "code",
      "source": [
        "from wordcloud import WordCloud\n",
        "\n",
        "#numCloud ='um,um,dois,dois,um,tres,quatro' \n",
        "nuvem_palavras = WordCloud(background_color='black',\n",
        "                           width=900,height=600).generate(numCloud)\n",
        "plt.imshow(nuvem_palavras, interpolation='bilinear')\n",
        "plt.axis(\"off\")\n",
        "nuvem_palavras.to_file(\"Nuvem de palavras.png\")"
      ],
      "metadata": {
        "colab": {
          "base_uri": "https://localhost:8080/",
          "height": 266
        },
        "id": "QzBYz52s1cJo",
        "outputId": "15be259a-242d-4cb1-e2b0-466a92fb607a"
      },
      "execution_count": null,
      "outputs": [
        {
          "output_type": "execute_result",
          "data": {
            "text/plain": [
              "<wordcloud.wordcloud.WordCloud at 0x7f8e5e91b550>"
            ]
          },
          "metadata": {},
          "execution_count": 24
        },
        {
          "output_type": "display_data",
          "data": {
            "text/plain": [
              "<Figure size 432x288 with 1 Axes>"
            ],
            "image/png": "[encoded data removed]"
          },
          "metadata": {
            "needs_background": "light"
          }
        }
      ]
    },
    {
      "cell_type": "markdown",
      "source": [
        "------------------------------\n",
        "#Análise e Conclusão:\n",
        "### a. Qual a importância de manipular arquivos de texto?\n",
        "######Resposta: Manipulando os arquivos de texto, podemos gerar os dados, arquivar e manipula-los para futuras análises. Esses dados podem ser utilizados para testes de algorítimos. Em aplicações com dados reais, podemos captar esses dados, arquivar na forma bruta, trabalhar dentro da aplicação e/ou extrair informações valiosas para tomada de decisão.\n",
        "\n",
        "### b. Qual a importância de visualizar os dados em um histograma?\n",
        "######Resposta: Considerado uma das 7 Ferramentas da Qualidade, o histograma é uma importante ferramenta de estatística, que mostra de forma visual a distribuição de frequência através de barras. Em outras palavras, o *histograma* ou *gráfico de distribuição de frequências* é uma representação gráfica para distribuição de dados numéricos, um modelo estatístico para a organização dos dados, exibindo a frequência que uma determinada amostra de dados ocorre. Desta forma rapidamente conseguimos visualizar as maiores e menores incidências de um determinado dado.\n",
        "\n",
        "### c. O que significa a visualização por nuvem de palavras?\n",
        "######Resposta: Na mesma premissa básica que o histograma, a nuvem de palavras é uma representação visual da frequência, porém de palavras dentro de um contexto. Ou seja, é uma ferramenta que serve para evidenciar e analisar a frequência que um termo (ou uma categoria) aparece em uma fonte de dados. Podemos ver este tipo de análise dentro das trending topics, hashtags mais utilizadas por alguma plataforma digital.\n",
        "------------------------\n",
        "\n",
        "\n"
      ],
      "metadata": {
        "id": "J6kZgqhUxzll"
      }
    }
  ]
}